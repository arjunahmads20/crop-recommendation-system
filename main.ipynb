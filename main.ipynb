{
  "cells": [
    {
      "cell_type": "code",
      "source": [
        "import numpy as np\n",
        "import pandas as pd\n",
        "\n",
        "from sklearn.metrics import accuracy_score\n",
        "from sklearn.model_selection import train_test_split\n",
        "\n",
        "from sklearn.preprocessing import OneHotEncoder"
      ],
      "metadata": {
        "id": "rZT8fiL9HXay"
      },
      "id": "rZT8fiL9HXay",
      "execution_count": null,
      "outputs": []
    },
    {
      "cell_type": "code",
      "source": [
        "df = pd.read_csv(\"Crop_recommendation.csv\")\n",
        "df.head()"
      ],
      "metadata": {
        "colab": {
          "base_uri": "https://localhost:8080/"
        },
        "id": "Gwf_kCPeHlD3",
        "outputId": "65a8aa97-5352-4c75-d863-75a9e645ac3d"
      },
      "id": "Gwf_kCPeHlD3",
      "execution_count": null,
      "outputs": [
        {
          "output_type": "stream",
          "name": "stdout",
          "text": [
            "['rice' 'maize' 'chickpea' 'kidneybeans' 'pigeonpeas' 'mothbeans'\n",
            " 'mungbean' 'blackgram' 'lentil' 'pomegranate' 'banana' 'mango' 'grapes'\n",
            " 'watermelon' 'muskmelon' 'apple' 'orange' 'papaya' 'coconut' 'cotton'\n",
            " 'jute' 'coffee']\n"
          ]
        }
      ]
    },
    {
      "cell_type": "code",
      "source": [
        "\n",
        "labels = df.label.unique()\n",
        "print(labels)\n",
        "\n",
        "\n",
        "def to_label(i):\n",
        "  return labels[i]"
      ],
      "metadata": {
        "id": "K_Jp9WSw8Dq8"
      },
      "id": "K_Jp9WSw8Dq8",
      "execution_count": null,
      "outputs": []
    },
    {
      "cell_type": "code",
      "source": [
        "# Modify the dataset by adding additional features\n",
        "\n",
        "land_area = {\n",
        "    'rice': '0.5–2 ha',\n",
        "    'maize': '0.5–2 ha',\n",
        "    'chickpea': '0.25–1 ha',\n",
        "    'kidneybeans': '0.25–1 ha',\n",
        "    'pigeonpeas': '0.25–1 ha',\n",
        "    'mothbeans': '0.25–1 ha',\n",
        "    'mungbean': '0.25–1 ha',\n",
        "    'blackgram': '0.25–1 ha',\n",
        "    'lentil': '0.25–1 ha',\n",
        "    'pomegranate': '1–5 ha',\n",
        "    'banana': '1–5 ha',\n",
        "    'mango': '2–10 ha',\n",
        "    'grapes': '1–5 ha',\n",
        "    'watermelon': '0.5–2 ha',\n",
        "    'muskmelon': '0.5–2 ha',\n",
        "    'apple': '2–10 ha',\n",
        "    'orange': '2–10 ha',\n",
        "    'papaya': '1–5 ha',\n",
        "    'coconut': '2–10 ha',\n",
        "    'cotton': '2–10 ha',\n",
        "    'jute': '2–10 ha',\n",
        "    'coffee': '2–10 ha'\n",
        "}\n",
        "water_need = {\n",
        "    'rice': 'high',\n",
        "    'banana': 'high',\n",
        "    'watermelon': 'high',\n",
        "    'muskmelon': 'high',\n",
        "    'grapes': 'high',\n",
        "    'maize': 'medium',\n",
        "    'cotton': 'medium',\n",
        "    'coffee': 'medium',\n",
        "    'papaya': 'medium',\n",
        "    'orange': 'medium',\n",
        "    'mango': 'medium',\n",
        "    'apple': 'medium',\n",
        "    'chickpea': 'low',\n",
        "    'lentil': 'low',\n",
        "    'mungbean': 'low',\n",
        "    'blackgram': 'low',\n",
        "    'kidneybeans': 'low',\n",
        "    'pigeonpeas': 'low',\n",
        "    'mothbeans': 'low',\n",
        "    'pomegranate': 'low',\n",
        "    'coconut': 'low',\n",
        "    'jute': 'low'\n",
        "}\n",
        "\n",
        "# Mapping dasar\n",
        "df['land_area'] = df['label'].map(land_area)\n",
        "df['water_need'] = df['label'].map(water_need)\n",
        "\n",
        "# Fungsi bantu untuk parsing min–max ha\n",
        "def parse_area(area_str):\n",
        "    print(area_str)\n",
        "    if '–' in area_str:  # range\n",
        "        parts = area_str.replace(' ha','').split('–')\n",
        "        return float(parts[0]), float(parts[1])\n",
        "    elif '≥' in area_str:  # minimal\n",
        "        val = float(area_str.replace('≥','').replace(' ha',''))\n",
        "        return val, np.nan\n",
        "    else:\n",
        "        val = float(area_str.replace(' ha',''))\n",
        "        return val, val\n",
        "\n",
        "# Apply parsing ke kolom\n",
        "df[['land_area_min','land_area_max']] = df['land_area'].apply(\n",
        "    lambda x: pd.Series(parse_area(x))\n",
        ")\n",
        "df.drop(['land_area'], axis=1, inplace=True)\n",
        "\n",
        "# Konversi water_need jadi numerik\n",
        "water_need_level = {'rendah':1, 'sedang':2, 'high':3}\n",
        "df['water_need_level'] = df['water_need'].map(water_need_level)\n",
        "\n",
        "df.drop(['water_need'], axis=1, inplace=True)\n",
        "df.to_csv('output.csv', index=False)"
      ],
      "metadata": {
        "id": "jj_dEWqdKxZP",
        "colab": {
          "base_uri": "https://localhost:8080/",
          "height": 641
        },
        "outputId": "6c5ce561-7f55-44bd-babc-4886858b0a77"
      },
      "id": "jj_dEWqdKxZP",
      "execution_count": 1,
      "outputs": [
        {
          "output_type": "error",
          "ename": "NameError",
          "evalue": "name 'df' is not defined",
          "traceback": [
            "\u001b[0;31m---------------------------------------------------------------------------\u001b[0m",
            "\u001b[0;31mNameError\u001b[0m                                 Traceback (most recent call last)",
            "\u001b[0;32m/tmp/ipython-input-3081420022.py\u001b[0m in \u001b[0;36m<cell line: 0>\u001b[0;34m()\u001b[0m\n\u001b[1;32m     49\u001b[0m \u001b[0;34m\u001b[0m\u001b[0m\n\u001b[1;32m     50\u001b[0m \u001b[0;31m# Mapping dasar\u001b[0m\u001b[0;34m\u001b[0m\u001b[0;34m\u001b[0m\u001b[0m\n\u001b[0;32m---> 51\u001b[0;31m \u001b[0mdf\u001b[0m\u001b[0;34m[\u001b[0m\u001b[0;34m'land_area'\u001b[0m\u001b[0;34m]\u001b[0m \u001b[0;34m=\u001b[0m \u001b[0mdf\u001b[0m\u001b[0;34m[\u001b[0m\u001b[0;34m'label'\u001b[0m\u001b[0;34m]\u001b[0m\u001b[0;34m.\u001b[0m\u001b[0mmap\u001b[0m\u001b[0;34m(\u001b[0m\u001b[0mland_area\u001b[0m\u001b[0;34m)\u001b[0m\u001b[0;34m\u001b[0m\u001b[0;34m\u001b[0m\u001b[0m\n\u001b[0m\u001b[1;32m     52\u001b[0m \u001b[0mdf\u001b[0m\u001b[0;34m[\u001b[0m\u001b[0;34m'water_need'\u001b[0m\u001b[0;34m]\u001b[0m \u001b[0;34m=\u001b[0m \u001b[0mdf\u001b[0m\u001b[0;34m[\u001b[0m\u001b[0;34m'label'\u001b[0m\u001b[0;34m]\u001b[0m\u001b[0;34m.\u001b[0m\u001b[0mmap\u001b[0m\u001b[0;34m(\u001b[0m\u001b[0mwater_need\u001b[0m\u001b[0;34m)\u001b[0m\u001b[0;34m\u001b[0m\u001b[0;34m\u001b[0m\u001b[0m\n\u001b[1;32m     53\u001b[0m \u001b[0;34m\u001b[0m\u001b[0m\n",
            "\u001b[0;31mNameError\u001b[0m: name 'df' is not defined"
          ]
        }
      ]
    },
    {
      "cell_type": "code",
      "source": [
        "\n",
        "X = df.drop([\"label\"], axis=1)\n",
        "y = pd.DataFrame(df.label)"
      ],
      "metadata": {
        "id": "nIvpBPF-8Rag"
      },
      "id": "nIvpBPF-8Rag",
      "execution_count": null,
      "outputs": []
    },
    {
      "cell_type": "code",
      "source": [
        "# Encode the label feature\n",
        "\n",
        "oh_encoder = OneHotEncoder(handle_unknown='ignore', sparse_output=False)\n",
        "oh_cols = pd.DataFrame(oh_encoder.fit_transform(y))\n",
        "\n",
        "# Return the index\n",
        "oh_cols.index = y.index\n",
        "\n",
        "y = oh_cols"
      ],
      "metadata": {
        "id": "EET9J4jCrV0w"
      },
      "id": "EET9J4jCrV0w",
      "execution_count": null,
      "outputs": []
    },
    {
      "cell_type": "code",
      "source": [
        "# Split the data\n",
        "X_train, X_val, y_train, y_val = train_test_split(X, y, test_size=0.2, random_state=0)"
      ],
      "metadata": {
        "id": "hyTeSG4H70Lj"
      },
      "id": "hyTeSG4H70Lj",
      "execution_count": null,
      "outputs": []
    },
    {
      "cell_type": "code",
      "source": [
        "# Start to predict\n",
        "\n",
        "from sklearn.tree import DecisionTreeRegressor\n",
        "\n",
        "model = DecisionTreeRegressor()\n",
        "model.fit(X_train, y_train)\n",
        "\n",
        "predictions = model.predict(X_val)\n",
        "\n",
        "accuracy = accuracy_score(y_val, predictions)\n",
        "\n",
        "print(\"accuracy: \", accuracy)\n",
        "print(\"predictions: \", predictions)\n",
        "\n",
        "\n",
        "predictions = np.where(predictions)[1].tolist()\n",
        "\n",
        "predictions = list(map(to_label, predictions))\n",
        "print(predictions)"
      ],
      "metadata": {
        "id": "9UrT9wQe731z"
      },
      "id": "9UrT9wQe731z",
      "execution_count": null,
      "outputs": []
    }
  ],
  "metadata": {
    "colab": {
      "provenance": []
    },
    "language_info": {
      "name": "python"
    },
    "kernelspec": {
      "name": "python3",
      "display_name": "Python 3"
    }
  },
  "nbformat": 4,
  "nbformat_minor": 5
}