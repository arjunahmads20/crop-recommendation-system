{
  "cells": [
    {
      "cell_type": "code",
      "source": [
        "import pandas as pd\n",
        "import numpy as np"
      ],
      "metadata": {
        "id": "rZT8fiL9HXay"
      },
      "id": "rZT8fiL9HXay",
      "execution_count": 1,
      "outputs": []
    },
    {
      "cell_type": "code",
      "source": [
        "%dir"
      ],
      "metadata": {
        "id": "Gwf_kCPeHlD3",
        "outputId": "6a42028f-59f3-41b3-b7eb-d46b794cc914",
        "colab": {
          "base_uri": "https://localhost:8080/"
        }
      },
      "id": "Gwf_kCPeHlD3",
      "execution_count": 2,
      "outputs": [
        {
          "output_type": "stream",
          "name": "stderr",
          "text": [
            "UsageError: Line magic function `%dir` not found.\n"
          ]
        }
      ]
    }
  ],
  "metadata": {
    "colab": {
      "provenance": []
    },
    "language_info": {
      "name": "python"
    },
    "kernelspec": {
      "name": "python3",
      "display_name": "Python 3"
    }
  },
  "nbformat": 4,
  "nbformat_minor": 5
}